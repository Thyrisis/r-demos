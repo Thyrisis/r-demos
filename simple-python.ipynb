{
 "cells": [
  {
   "cell_type": "code",
   "execution_count": 11,
   "metadata": {},
   "outputs": [
    {
     "data": {
      "text/plain": [
       "[3, 3, 2, 1, 0]"
      ]
     },
     "execution_count": 11,
     "metadata": {},
     "output_type": "execute_result"
    }
   ],
   "source": [
    "test = [5, 6, 3, 2, 1]\n",
    "\n",
    "def a(arr):\n",
    "    res = []\n",
    "    for i in range(len(arr)):\n",
    "        [a for a in arr[i+1:] if a < arr[i]]\n",
    "        \n",
    "        res.append(len())\n",
    "        \n",
    "    return res\n",
    "        \n",
    "a(test)\n",
    "    "
   ]
  },
  {
   "cell_type": "code",
   "execution_count": 20,
   "metadata": {},
   "outputs": [
    {
     "data": {
      "text/plain": [
       "4"
      ]
     },
     "execution_count": 20,
     "metadata": {},
     "output_type": "execute_result"
    }
   ],
   "source": [
    "from collections import Counter\n",
    "input = [1, 10, 3, 10, 10]\n",
    "sum([k for k,v in Counter(input).items() if v == 1])"
   ]
  }
 ],
 "metadata": {
  "kernelspec": {
   "display_name": "hs-chat",
   "language": "python",
   "name": "python3"
  },
  "language_info": {
   "codemirror_mode": {
    "name": "ipython",
    "version": 3
   },
   "file_extension": ".py",
   "mimetype": "text/x-python",
   "name": "python",
   "nbconvert_exporter": "python",
   "pygments_lexer": "ipython3",
   "version": "3.11.7"
  }
 },
 "nbformat": 4,
 "nbformat_minor": 2
}
