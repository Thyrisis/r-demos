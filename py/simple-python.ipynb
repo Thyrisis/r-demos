{
 "cells": [
  {
   "cell_type": "markdown",
   "metadata": {},
   "source": [
    "A1: Write a Python function that will return a count of remaining items in a list with a value lower than the current one.\n",
    "\n",
    "Interviewer notes: \n",
    "    If clarification is requested, give example input [5, 6, 3, 2, 1]\n",
    "    If further clarification requested, give output [3, 3, 2, 1, 0] for this example input\n",
    "    This problem can be solved using for loops but higher ratings are achieved using list comprehension."
   ]
  },
  {
   "cell_type": "code",
   "execution_count": 11,
   "metadata": {},
   "outputs": [
    {
     "data": {
      "text/plain": [
       "[3, 3, 2, 1, 0]"
      ]
     },
     "execution_count": 11,
     "metadata": {},
     "output_type": "execute_result"
    }
   ],
   "source": [
    "test = [5, 6, 3, 2, 1]\n",
    "\n",
    "def a(arr):\n",
    "    res = []\n",
    "    for i in range(len(arr)):\n",
    "        [a for a in arr[i+1:] if a < arr[i]]\n",
    "        \n",
    "        res.append(len())\n",
    "        \n",
    "    return res\n",
    "        \n",
    "a(test)"
   ]
  },
  {
   "cell_type": "markdown",
   "metadata": {},
   "source": [
    "A2: Write a Python function that will return a sum of values in a list, excluding any that are duplicated.\n",
    "\n",
    "Interviewer notes:\n",
    "    If clarification requested, give example input [1, 10, 3, 10, 10]\n",
    "    If further clarification requested, give output 4 for this example input\n",
    "    Use of list comprehension and Counter method as below is higher rated"
   ]
  },
  {
   "cell_type": "code",
   "execution_count": 20,
   "metadata": {},
   "outputs": [
    {
     "data": {
      "text/plain": [
       "4"
      ]
     },
     "execution_count": 20,
     "metadata": {},
     "output_type": "execute_result"
    }
   ],
   "source": [
    "from collections import Counter\n",
    "input = [1, 10, 3, 10, 10]\n",
    "sum([k for k,v in Counter(input).items() if v == 1])"
   ]
  }
 ],
 "metadata": {
  "kernelspec": {
   "display_name": "hs-chat",
   "language": "python",
   "name": "python3"
  },
  "language_info": {
   "codemirror_mode": {
    "name": "ipython",
    "version": 3
   },
   "file_extension": ".py",
   "mimetype": "text/x-python",
   "name": "python",
   "nbconvert_exporter": "python",
   "pygments_lexer": "ipython3",
   "version": "3.11.7"
  }
 },
 "nbformat": 4,
 "nbformat_minor": 2
}
