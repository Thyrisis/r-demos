{
 "cells": [
  {
   "cell_type": "code",
   "execution_count": 92,
   "metadata": {},
   "outputs": [],
   "source": [
    "#raw = \"190: 10 19\\n3267: 81 40 27\\n83: 17 5\\n156: 15 6\\n7290: 6 8 6 15\\n161011: 16 10 13\\n192: 17 8 14\\n21037: 9 7 18 13\\n292: 11 6 16 20\"\n",
    "raw = open(\"day7-input.txt\", \"r\").read()\n",
    "\n",
    "clean = [(col[0], col[1].split(\" \")) for col in [row.split(\": \") for row in raw.split(\"\\n\") if row]]"
   ]
  },
  {
   "cell_type": "code",
   "execution_count": 44,
   "metadata": {},
   "outputs": [
    {
     "name": "stdout",
     "output_type": "stream",
     "text": [
      "cur_eval: 10+19\n",
      "cur_eval: 10*19\n",
      "cur_eval: 81+40+27\n",
      "cur_eval: 81+40*27\n",
      "cur_eval: 81*40+27\n",
      "cur_eval: 81*40*27\n",
      "cur_eval: 17+5\n",
      "cur_eval: 17*5\n",
      "cur_eval: 15+6\n",
      "cur_eval: 15*6\n",
      "cur_eval: 6+8+6+15\n",
      "cur_eval: 6+8+6*15\n",
      "cur_eval: 6+8*6+15\n",
      "cur_eval: 6+8*6*15\n",
      "cur_eval: 6*8+6+15\n",
      "cur_eval: 6*8+6*15\n",
      "cur_eval: 6*8*6+15\n",
      "cur_eval: 6*8*6*15\n",
      "cur_eval: 16+10+13\n",
      "cur_eval: 16+10*13\n",
      "cur_eval: 16*10+13\n",
      "cur_eval: 16*10*13\n",
      "cur_eval: 17+8+14\n",
      "cur_eval: 17+8*14\n",
      "cur_eval: 17*8+14\n",
      "cur_eval: 17*8*14\n",
      "cur_eval: 9+7+18+13\n",
      "cur_eval: 9+7+18*13\n",
      "cur_eval: 9+7*18+13\n",
      "cur_eval: 9+7*18*13\n",
      "cur_eval: 9*7+18+13\n",
      "cur_eval: 9*7+18*13\n",
      "cur_eval: 9*7*18+13\n",
      "cur_eval: 9*7*18*13\n",
      "cur_eval: 11+6+16+20\n",
      "cur_eval: 11+6+16*20\n",
      "cur_eval: 11+6*16+20\n",
      "cur_eval: 11+6*16*20\n",
      "cur_eval: 11*6+16+20\n",
      "cur_eval: 11*6+16*20\n",
      "cur_eval: 11*6*16+20\n",
      "cur_eval: 11*6*16*20\n"
     ]
    }
   ],
   "source": [
    "import numpy as np\n",
    "\n",
    "operators = ['+', '*']\n",
    "\n",
    "# arithmetic order - not finished\n",
    "for row in clean:\n",
    "    cur_target = row[0]\n",
    "    cur_vals = row[1]\n",
    "    cur_hit = 0\n",
    "    for x in range(len(operators)**(len(cur_vals)-1)):\n",
    "        cur_eval = cur_vals[0]\n",
    "        cur_ops = np.base_repr(x, base=len(operators)).zfill(len(cur_vals)-1)\n",
    "        for i in range(len(cur_ops)):\n",
    "            cur_eval += operators[int(cur_ops[i])] + cur_vals[i+1]\n",
    "        print(\"cur_eval:\", cur_eval)"
   ]
  },
  {
   "cell_type": "code",
   "execution_count": 93,
   "metadata": {},
   "outputs": [
    {
     "name": "stdout",
     "output_type": "stream",
     "text": [
      "509463489296712\n"
     ]
    }
   ],
   "source": [
    "import numpy as np\n",
    "\n",
    "operators = ['+', '*', '||']\n",
    "hits = 0\n",
    "\n",
    "# strict left to right order\n",
    "for row in clean:\n",
    "    cur_target = row[0]\n",
    "    cur_vals = row[1]\n",
    "    cur_hit = False\n",
    "    for x in range(len(operators)**(len(cur_vals)-1)):\n",
    "        cur_ops = np.base_repr(x, base=len(operators)).zfill(len(cur_vals)-1)\n",
    "        cur_eval = cur_vals[0]\n",
    "        for i in range(len(cur_ops)):\n",
    "            cur_op = operators[int(cur_ops[i])]\n",
    "            if cur_op in ['+', '*']:\n",
    "                cur_eval = str(eval(cur_eval + operators[int(cur_ops[i])] + cur_vals[i+1]))\n",
    "            elif cur_op == '||':\n",
    "                cur_eval += cur_vals[i+1]\n",
    "        \n",
    "        if int(eval(cur_eval)) == int(cur_target): cur_hit = True\n",
    "    if cur_hit: hits += int(cur_target)\n",
    "\n",
    "print(hits)"
   ]
  }
 ],
 "metadata": {
  "language_info": {
   "name": "python"
  }
 },
 "nbformat": 4,
 "nbformat_minor": 2
}
