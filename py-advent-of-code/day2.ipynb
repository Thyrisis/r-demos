{
 "cells": [
  {
   "cell_type": "code",
   "execution_count": null,
   "metadata": {
    "vscode": {
     "languageId": "python"
    }
   },
   "outputs": [],
   "source": [
    "# read data\n",
    "raw = open(\"day2-input.txt\", \"r\").read().split(\"\\n\")\n",
    "\n",
    "# split rows into lists\n",
    "for i in range(len(raw)):\n",
    "    raw[i] = raw[i].strip().split(\" \")\n",
    "\n",
    "# convert list items to int & remove empty items\n",
    "clean = list(filter(None, [[int(j) for j in i if j] for i in raw if i]))"
   ]
  },
  {
   "cell_type": "markdown",
   "metadata": {},
   "source": [
    "Section 1 - Initial task"
   ]
  },
  {
   "cell_type": "code",
   "execution_count": 59,
   "metadata": {
    "vscode": {
     "languageId": "python"
    }
   },
   "outputs": [
    {
     "name": "stdout",
     "output_type": "stream",
     "text": [
      "332 668\n"
     ]
    }
   ],
   "source": [
    "# define direction testing function\n",
    "def direction_test(val1, val2):\n",
    "    if val2 > val1: return 1\n",
    "    elif val2 == val1: return 0\n",
    "    elif val2 < val1: return -1\n",
    "    else: return None\n",
    "\n",
    "# run through data\n",
    "unsafe = 0\n",
    "safe = 0\n",
    "\n",
    "# test each record\n",
    "for i in clean:\n",
    "\n",
    "    breach = 0\n",
    "    breach_3 = 0\n",
    "    breach_0 = 0\n",
    "    breach_dir = 0\n",
    "    direction = None\n",
    "\n",
    "    # set record initial direction\n",
    "    if len(i) > 1: direction = direction_test(i[0], i[1])\n",
    "\n",
    "    # test each observation\n",
    "    for j in range(1, len(i)):\n",
    "\n",
    "        # movement > 3\n",
    "        if abs(i[j] - i[j-1]) > 3:\n",
    "            breach_3 += 1\n",
    "\n",
    "        # movement = 0\n",
    "        if abs(i[j] - i[j-1]) == 0:\n",
    "            breach_0 += 1\n",
    "\n",
    "        # direction switch\n",
    "        if direction_test(i[j-1], i[j]) != direction:\n",
    "            breach_dir += 1\n",
    "\n",
    "    breach = breach_3 + breach_0 + breach_dir\n",
    "\n",
    "    if breach > 0:\n",
    "        unsafe += 1\n",
    "    else: safe += 1\n",
    "\n",
    "\n",
    "print(safe, unsafe)"
   ]
  },
  {
   "cell_type": "markdown",
   "metadata": {},
   "source": [
    "Section 2 - add the Problem Dampener"
   ]
  },
  {
   "cell_type": "code",
   "execution_count": 80,
   "metadata": {
    "vscode": {
     "languageId": "python"
    }
   },
   "outputs": [],
   "source": [
    "# define direction testing function\n",
    "def direction_test(val1, val2):\n",
    "    if val2 > val1: return 1\n",
    "    elif val2 == val1: return 0\n",
    "    elif val2 < val1: return -1\n",
    "    else: return None\n",
    "\n",
    "# define index based list removal function\n",
    "def list_index_removal(lst, idx):\n",
    "    return lst[:idx] + lst[idx+1:]\n",
    "\n",
    "# define testing function\n",
    "def safe_test(report):\n",
    "\n",
    "    if len(report) > 1: direction = direction_test(report[0], report[1])\n",
    "\n",
    "    safe = None\n",
    "\n",
    "    for i in range(1, len(report)):\n",
    "\n",
    "        if direction_test(report[i-1], report[i]) != direction:\n",
    "            safe = False\n",
    "\n",
    "        elif abs(report[i-1] - report[i]) > 3:\n",
    "            safe = False\n",
    "\n",
    "        elif abs(report[i-1] - report[i]) == 0:\n",
    "            safe = False\n",
    "\n",
    "    if safe == False: return False\n",
    "    else: return True\n",
    "\n",
    "\n",
    "# run through data\n",
    "safe = 0\n",
    "unsafe = 0\n",
    "\n",
    "# test each record\n",
    "for i in clean:\n",
    "    # base test\n",
    "    test = safe_test(i)\n",
    "\n",
    "    # test removing each level in turn\n",
    "    for j in range(len(i)):\n",
    "        test_j = safe_test(list_index_removal(i, j))\n",
    "        if test_j == True: test = True\n",
    "\n",
    "    # final eval for the report\n",
    "    if test == False: unsafe += 1\n",
    "    elif test == True: safe += 1\n",
    "\n",
    "\n"
   ]
  }
 ],
 "metadata": {
  "language_info": {
   "name": "plaintext"
  }
 },
 "nbformat": 4,
 "nbformat_minor": 2
}
