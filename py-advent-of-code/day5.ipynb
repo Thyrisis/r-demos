{
 "cells": [
  {
   "cell_type": "code",
   "execution_count": 108,
   "metadata": {},
   "outputs": [],
   "source": [
    "#raw = \"47|53\\n97|13\\n97|61\\n97|47\\n75|29\\n61|13\\n75|53\\n29|13\\n97|29\\n53|29\\n61|53\\n97|53\\n61|29\\n47|13\\n75|47\\n97|75\\n47|61\\n75|61\\n47|29\\n75|13\\n53|13\\n\\n75,47,61,53,29\\n97,61,53,29,13\\n75,29,13\\n75,97,47,61,53\\n61,13,29\\n97,13,75,29,47\""
   ]
  },
  {
   "cell_type": "code",
   "execution_count": 122,
   "metadata": {},
   "outputs": [],
   "source": [
    "raw = open(\"day5-input.txt\", \"r\").read()\n",
    "\n",
    "rules = raw.split(\"\\n\\n\")[0].split(\"\\n\")\n",
    "updates = raw.split(\"\\n\\n\")[1].split(\"\\n\")\n",
    "\n",
    "rules = [rule.split(\"|\") for rule in rules if rule]\n",
    "updates = [update.split(\",\") for update in updates if update]"
   ]
  },
  {
   "cell_type": "code",
   "execution_count": 110,
   "metadata": {},
   "outputs": [
    {
     "data": {
      "text/plain": [
       "143"
      ]
     },
     "execution_count": null,
     "metadata": {},
     "output_type": "execute_result"
    }
   ],
   "source": [
    "def rule_fail(rules: list, update: list):\n",
    "    for rule in rules:\n",
    "        if rule[0] in update and rule[1] in update:\n",
    "            if update.index(rule[0]) > update.index(rule[1]): return True\n",
    "    return False            \n",
    "\n",
    "def list_midpoint(input_list: list):\n",
    "    return input_list[int(len(input_list)/2)]\n",
    "\n",
    "sum([int(list_midpoint(update)) for update in updates if not rule_fail(rules, update)])"
   ]
  },
  {
   "cell_type": "code",
   "execution_count": 123,
   "metadata": {},
   "outputs": [
    {
     "data": {
      "text/plain": [
       "5285"
      ]
     },
     "execution_count": null,
     "metadata": {},
     "output_type": "execute_result"
    }
   ],
   "source": [
    "bad_updates = [update for update in updates if rule_fail(rules, update)]\n",
    "\n",
    "for update in bad_updates:\n",
    "    while rule_fail(rules, update):\n",
    "        for rule in rules:\n",
    "            if rule[0] in update and rule[1] in update:\n",
    "                pos_rule0 = update.index(rule[0])\n",
    "                pos_rule1 = update.index(rule[1])\n",
    "                if pos_rule0 > pos_rule1:\n",
    "                    # swap them over\n",
    "                    update[pos_rule1] = rule[0]\n",
    "                    update[pos_rule0] = rule[1]\n",
    "\n",
    "sum([int(list_midpoint(update)) for update in bad_updates])"
   ]
  }
 ],
 "metadata": {
  "language_info": {
   "name": "python"
  }
 },
 "nbformat": 4,
 "nbformat_minor": 2
}
