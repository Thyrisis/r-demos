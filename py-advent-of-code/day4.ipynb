{
 "cells": [
  {
   "cell_type": "code",
   "execution_count": 94,
   "metadata": {
    "vscode": {
     "languageId": "python"
    }
   },
   "outputs": [
    {
     "name": "stdout",
     "output_type": "stream",
     "text": [
      "2654\n"
     ]
    }
   ],
   "source": [
    "raw = open(\"day4-input.txt\", \"r\").read().split(\"\\n\")\n",
    "\n",
    "clean = [row for row in raw if row]\n",
    "\n",
    "hits = 0\n",
    "\n",
    "# rn ranges from 0 to 139\n",
    "for rn, row in enumerate(clean):\n",
    "    # pos ranges from 0 to 139, len(row)=140, len(clean)=140\n",
    "    for pos in range(len(row)):\n",
    "        if row[pos] == \"X\":\n",
    "            # test hf\n",
    "            if row[pos+1:pos+4] == \"MAS\": hits += 1\n",
    "            # test duf\n",
    "            if rn >= 3 and pos <= len(row)-4:\n",
    "                if clean[rn-1][pos+1] + clean[rn-2][pos+2] + clean[rn-3][pos+3] == \"MAS\": hits += 1\n",
    "            # test vu\n",
    "            if rn >= 3:\n",
    "                if clean[rn-1][pos] + clean[rn-2][pos] + clean[rn-3][pos] == \"MAS\": hits += 1\n",
    "            # test dub\n",
    "            if rn >= 3 and pos >= 3:\n",
    "                if clean[rn-1][pos-1] + clean[rn-2][pos-2] + clean[rn-3][pos-3] == \"MAS\": hits += 1\n",
    "            # test hb\n",
    "            if pos >= 3:\n",
    "                if clean[rn][pos-1] + clean[rn][pos-2] + clean[rn][pos-3] == \"MAS\": hits += 1\n",
    "            # test ddb\n",
    "            if rn <= len(clean)-4 and pos >= 3:\n",
    "                if clean[rn+1][pos-1] + clean[rn+2][pos-2] + clean[rn+3][pos-3] == \"MAS\": hits += 1\n",
    "            # test vd\n",
    "            if rn <= len(clean)-4:\n",
    "                if clean[rn+1][pos] + clean[rn+2][pos] + clean[rn+3][pos] == \"MAS\": hits += 1\n",
    "            # test ddf \n",
    "            if rn <= len(clean)-4 and pos <= len(row)-4:\n",
    "                if clean[rn+1][pos+1] + clean[rn+2][pos+2] + clean[rn+3][pos+3] == \"MAS\": hits += 1\n",
    "\n",
    "print(hits)"
   ]
  }
 ],
 "metadata": {
  "language_info": {
   "name": "plaintext"
  }
 },
 "nbformat": 4,
 "nbformat_minor": 2
}
