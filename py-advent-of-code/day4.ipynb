{
 "cells": [
  {
   "cell_type": "code",
   "execution_count": 1,
   "metadata": {
    "vscode": {
     "languageId": "python"
    }
   },
   "outputs": [],
   "source": [
    "raw = open(\"day4-input.txt\", \"r\").read().split(\"\\n\")\n",
    "\n",
    "clean = [row for row in raw if row]\n",
    "\n"
   ]
  },
  {
   "cell_type": "code",
   "execution_count": 3,
   "metadata": {
    "vscode": {
     "languageId": "python"
    }
   },
   "outputs": [
    {
     "name": "stdout",
     "output_type": "stream",
     "text": [
      "2654\n"
     ]
    }
   ],
   "source": [
    "# part 1\n",
    "hits = 0\n",
    "\n",
    "# rn ranges from 0 to 139\n",
    "for rn, row in enumerate(clean):\n",
    "    # pos ranges from 0 to 139, len(row)=140, len(clean)=140\n",
    "    for pos in range(len(row)):\n",
    "        if row[pos] == \"X\":\n",
    "            # test hf\n",
    "            if row[pos+1:pos+4] == \"MAS\": hits += 1\n",
    "            # test duf\n",
    "            if rn >= 3 and pos <= len(row)-4:\n",
    "                if clean[rn-1][pos+1] + clean[rn-2][pos+2] + clean[rn-3][pos+3] == \"MAS\": hits += 1\n",
    "            # test vu\n",
    "            if rn >= 3:\n",
    "                if clean[rn-1][pos] + clean[rn-2][pos] + clean[rn-3][pos] == \"MAS\": hits += 1\n",
    "            # test dub\n",
    "            if rn >= 3 and pos >= 3:\n",
    "                if clean[rn-1][pos-1] + clean[rn-2][pos-2] + clean[rn-3][pos-3] == \"MAS\": hits += 1\n",
    "            # test hb\n",
    "            if pos >= 3:\n",
    "                if clean[rn][pos-1] + clean[rn][pos-2] + clean[rn][pos-3] == \"MAS\": hits += 1\n",
    "            # test ddb\n",
    "            if rn <= len(clean)-4 and pos >= 3:\n",
    "                if clean[rn+1][pos-1] + clean[rn+2][pos-2] + clean[rn+3][pos-3] == \"MAS\": hits += 1\n",
    "            # test vd\n",
    "            if rn <= len(clean)-4:\n",
    "                if clean[rn+1][pos] + clean[rn+2][pos] + clean[rn+3][pos] == \"MAS\": hits += 1\n",
    "            # test ddf \n",
    "            if rn <= len(clean)-4 and pos <= len(row)-4:\n",
    "                if clean[rn+1][pos+1] + clean[rn+2][pos+2] + clean[rn+3][pos+3] == \"MAS\": hits += 1\n",
    "\n",
    "print(hits)"
   ]
  },
  {
   "cell_type": "code",
   "execution_count": 2,
   "metadata": {
    "vscode": {
     "languageId": "python"
    }
   },
   "outputs": [
    {
     "name": "stdout",
     "output_type": "stream",
     "text": [
      "1679\n"
     ]
    }
   ],
   "source": [
    "# part 2\n",
    "# hits = 0\n",
    "\n",
    "# rn ranges from 0 to 139, pos ranges from 0 to 139, len(row)=140, len(clean)=140\n",
    "for rn, row in enumerate(clean):\n",
    "    for pos in range(len(row)):\n",
    "        # test duf / ddf\n",
    "        if rn >= 2 and pos <= len(row)-3:\n",
    "            if clean[rn][pos] + clean[rn-1][pos+1] + clean[rn-2][pos+2] == \"MAS\":\n",
    "                if clean[rn-2][pos] + clean[rn-1][pos+1] + clean[rn][pos+2] == \"MAS\": hits += 1\n",
    "        # test dub / duf\n",
    "        if rn >= 2 and pos >= 2:\n",
    "            if clean[rn][pos] + clean[rn-1][pos-1] + clean[rn-2][pos-2] == \"MAS\":\n",
    "                if clean[rn][pos-2] + clean[rn-1][pos-1] + clean[rn-2][pos] == \"MAS\": hits += 1\n",
    "        # test ddb / dub\n",
    "        if pos >= 2 and rn <= len(clean)-3:\n",
    "            if clean[rn][pos] + clean[rn+1][pos-1] + clean[rn+2][pos-2] == \"MAS\":\n",
    "                if clean[rn+2][pos] + clean[rn+1][pos-1] + clean[rn][pos-2] == \"MAS\": hits += 1\n",
    "        # test ddf / ddb\n",
    "        if rn <= len(clean)-3 and pos <= len(row)-3:\n",
    "            if clean[rn][pos] + clean[rn+1][pos+1] + clean[rn+2][pos+2] == \"MAS\":\n",
    "                if clean[rn-2][pos] + clean[rn-1][pos-1] + clean[rn][pos-2] == \"MAS\": hits += 1\n",
    "\n",
    "print(hits)"
   ]
  },
  {
   "cell_type": "code",
   "execution_count": 10,
   "metadata": {
    "vscode": {
     "languageId": "python"
    }
   },
   "outputs": [
    {
     "name": "stdout",
     "output_type": "stream",
     "text": [
      "1990\n"
     ]
    }
   ],
   "source": [
    "# part 2 alternative approach with easier position tracking and a lot less code!\n",
    "hits = 0\n",
    "for rn, row in enumerate(clean):\n",
    "    for pos in range(1,len(row)-1):\n",
    "        if row[pos] == \"A\" and rn > 0 and rn < len(clean)-1:\n",
    "            d1 = clean[rn-1][pos-1] + clean[rn+1][pos+1]\n",
    "            d2 = clean[rn+1][pos-1] + clean[rn-1][pos+1]\n",
    "            if d1 in (\"MS\", \"SM\") and d2 in (\"MS\", \"SM\"): hits += 1\n",
    "\n",
    "print(hits)"
   ]
  }
 ],
 "metadata": {
  "language_info": {
   "name": "plaintext"
  }
 },
 "nbformat": 4,
 "nbformat_minor": 2
}
