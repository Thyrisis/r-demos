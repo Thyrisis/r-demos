{
 "cells": [
  {
   "cell_type": "code",
   "execution_count": 84,
   "metadata": {},
   "outputs": [],
   "source": [
    "#raw = \"....#.....\\n.........#\\n..........\\n..#.......\\n.......#..\\n..........\\n.#..^.....\\n........#.\\n#.........\\n......#...\"\n",
    "raw = open(\"day6-input.txt\", \"r\").read()\n",
    "\n",
    "clean = [list(row) for row in raw.split(\"\\n\") if row]"
   ]
  },
  {
   "cell_type": "code",
   "execution_count": 85,
   "metadata": {},
   "outputs": [
    {
     "data": {
      "text/plain": [
       "5269"
      ]
     },
     "execution_count": null,
     "metadata": {},
     "output_type": "execute_result"
    }
   ],
   "source": [
    "import copy\n",
    "from enum import Enum\n",
    "\n",
    "Direction = Enum(value = \"Direction\",\n",
    "                 names = [(\"^\", [-1, 0, \">\"]),\n",
    "                          (\">\", [0, 1, \"v\"]),\n",
    "                          (\"<\", [0, -1, \"^\"]),\n",
    "                          (\"v\", [1, 0, \"<\"])])\n",
    "                          \n",
    "def index_matches_2d(in_lists: list, search_chars: list):\n",
    "    hits = []\n",
    "    indices = [[hits.append((x, [j, i])) for i, x in enumerate(y) if x in search_chars] for j, y in enumerate(in_lists)]\n",
    "    return hits\n",
    "\n",
    "def on_map(map: list, coords: list):\n",
    "    if coords[0] < 0 or coords[0] > len(map[0])-1:\n",
    "        return False\n",
    "    elif coords[1] < 0 or coords[1] > len(map)-1:\n",
    "        return False\n",
    "    else:\n",
    "        return True\n",
    "\n",
    "def move(in_map: list, start: list):\n",
    "    out_map = copy.deepcopy(in_map)\n",
    "    pos = start[1]\n",
    "    dir = Direction[start[0]].value\n",
    "    while on_map(out_map, [pos[0], pos[1]]):\n",
    "        # mark square as visited\n",
    "        out_map[pos[0]][pos[1]] = \"X\"\n",
    "        # test if next step would hit object and rotate if needed\n",
    "        if on_map(out_map, [pos[0] + dir[0], pos[1] + dir[1]]):\n",
    "            if out_map[pos[0] + dir[0]][pos[1] + dir[1]] == \"#\":\n",
    "                dir = Direction[dir[2]].value\n",
    "        # move\n",
    "        pos[0] += dir[0]\n",
    "        pos[1] += dir[1]\n",
    "    return out_map\n",
    "\n",
    "start = index_matches_2d(clean, [\"^\",\"<\",\">\",\"v\"])[0]\n",
    "after_patrol = move(clean, start)\n",
    "len(index_matches_2d(after_patrol, \"X\"))"
   ]
  },
  {
   "cell_type": "code",
   "execution_count": null,
   "metadata": {},
   "outputs": [],
   "source": [
    "# needs a loop detector\n",
    "# then needs obstacle placing at each point in turn which is not either start or existing obstacle\n",
    "# could reduce runtime for this by adding obstacles only on known route\n",
    "\n",
    "def move(in_map: list, start: list):\n",
    "    out_map = copy.deepcopy(in_map)\n",
    "    pos = start[1]\n",
    "    dir = Direction[start[0]].value\n",
    "    steps = []\n",
    "    while on_map(out_map, [pos[0], pos[1]]):\n",
    "        # mark square as visited\n",
    "        out_map[pos[0]][pos[1]] = \"X\"\n",
    "        # append to steps array here\n",
    "        steps.append([pos[0], pos[1], dir[2]])\n",
    "        # test if next step would hit object and rotate if needed\n",
    "        if on_map(out_map, [pos[0] + dir[0], pos[1] + dir[1]]):\n",
    "            if out_map[pos[0] + dir[0]][pos[1] + dir[1]] == \"#\":\n",
    "                dir = Direction[dir[2]].value\n",
    "        # move\n",
    "        pos[0] += dir[0]\n",
    "        pos[1] += dir[1]\n",
    "        # eval if in loop\n",
    "        if pos in steps\n",
    "\n",
    "    return out_map"
   ]
  }
 ],
 "metadata": {
  "language_info": {
   "name": "python"
  }
 },
 "nbformat": 4,
 "nbformat_minor": 2
}
