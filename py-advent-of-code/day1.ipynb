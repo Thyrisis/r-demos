{
 "cells": [
  {
   "cell_type": "code",
   "execution_count": 24,
   "metadata": {
    "vscode": {
     "languageId": "python"
    }
   },
   "outputs": [
    {
     "data": {
      "text/plain": [
       "np.int64(1603498)"
      ]
     },
     "execution_count": null,
     "metadata": {},
     "output_type": "execute_result"
    }
   ],
   "source": [
    "import pandas as pd\n",
    "import requests\n",
    "\n",
    "# read fixed width file from url\n",
    "#url = 'https://adventofcode.com/2024/day/1/input'\n",
    "url = './day1-input.txt'\n",
    "\n",
    "df_raw = pd.read_fwf(url, colspecs=[(0,5), (8,13)], header=None, names=[\"col1\", \"col2\"])\n",
    "\n",
    "# sort each column separately and remove indicies\n",
    "col1_sorted = df_clean[\"col1\"].sort_values().reset_index(drop=True)\n",
    "col2_sorted = df_clean[\"col2\"].sort_values().reset_index(drop=True)\n",
    "\n",
    "# create new df from sorted columns\n",
    "df_sorted = pd.DataFrame({\"col1\": col1_sorted, \"col2\": col2_sorted})\n",
    "\n",
    "# calc variance between each row pair\n",
    "df_sorted[\"variance\"] = abs(df_sorted[\"col2\"] - df_sorted[\"col1\"])\n",
    "\n",
    "# sum variances\n",
    "df_sorted[\"variance\"].sum()"
   ]
  },
  {
   "cell_type": "code",
   "execution_count": 34,
   "metadata": {
    "vscode": {
     "languageId": "python"
    }
   },
   "outputs": [
    {
     "data": {
      "text/plain": [
       "np.int64(25574739)"
      ]
     },
     "execution_count": null,
     "metadata": {},
     "output_type": "execute_result"
    }
   ],
   "source": [
    "# inner join the two lists to create cartesian and remove non-matches\n",
    "df_col1 = pd.DataFrame({\"val\": col1_sorted})\n",
    "df_col2 = pd.DataFrame({\"val\": col2_sorted})\n",
    "df_inner = df_col1.merge(df_col2, how='inner', on=\"val\")\n",
    "\n",
    "# count instances of each value in col1\n",
    "df_count = df_inner.groupby(\"val\").size().reset_index(name=\"count\")\n",
    "\n",
    "# multiply to get values\n",
    "df_count[\"score\"] = df_count[\"count\"] * df_count[\"val\"]\n",
    "\n",
    "# sum score\n",
    "df_count[\"score\"].sum()"
   ]
  }
 ],
 "metadata": {
  "language_info": {
   "name": "plaintext"
  }
 },
 "nbformat": 4,
 "nbformat_minor": 2
}
