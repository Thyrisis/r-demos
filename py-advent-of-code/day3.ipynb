{
 "cells": [
  {
   "cell_type": "code",
   "execution_count": 1,
   "metadata": {
    "vscode": {
     "languageId": "python"
    }
   },
   "outputs": [
    {
     "data": {
      "text/plain": [
       "192767529"
      ]
     },
     "execution_count": null,
     "metadata": {},
     "output_type": "execute_result"
    }
   ],
   "source": [
    "import re\n",
    "\n",
    "# read data\n",
    "raw = open(\"day3-input.txt\", \"r\").read()\n",
    "\n",
    "# find hits\n",
    "hits = re.findall(r\"mul\\((\\d+),(\\d+)\\)\", raw)\n",
    "\n",
    "sum([int(hit[0]) * int(hit[1]) for hit in hits])"
   ]
  },
  {
   "cell_type": "code",
   "execution_count": 12,
   "metadata": {
    "vscode": {
     "languageId": "python"
    }
   },
   "outputs": [
    {
     "data": {
      "text/plain": [
       "104083373"
      ]
     },
     "execution_count": null,
     "metadata": {},
     "output_type": "execute_result"
    }
   ],
   "source": [
    "# break into do blocks\n",
    "do_lines = raw.split(\"do()\")\n",
    "\n",
    "# separate out don't blocks\n",
    "dont_lines = [do.split(\"don't()\") for do in do_lines]\n",
    "\n",
    "# select only element 0 for each don't block\n",
    "live_lines = [dont[0] for dont in dont_lines]\n",
    "\n",
    "# join the lines back together\n",
    "live = \"\".join(live_lines)\n",
    "\n",
    "# find hits\n",
    "live_hits = re.findall(r\"mul\\((\\d+),(\\d+)\\)\", live)\n",
    "\n",
    "sum([int(hit[0]) * int(hit[1]) for hit in live_hits])"
   ]
  }
 ],
 "metadata": {
  "language_info": {
   "name": "plaintext"
  }
 },
 "nbformat": 4,
 "nbformat_minor": 2
}
